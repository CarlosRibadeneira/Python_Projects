{
 "cells": [
  {
   "cell_type": "markdown",
   "metadata": {},
   "source": [
    "# Final Project: Analyzing Runkeeper Fitness Data\n",
    "\n",
    "**Completed By Team 6:** Duggu Aishwarya, Colin Barker, Anna Enge, Carlos Ribadeneira Espinoza, Nathan Weeks\n",
    "\n",
    "One day, my old running friend and I were chatting about our running styles, training habits, and achievements, when I suddenly realized that I could take an in-depth analytical look at my training. I have been using a popular GPS fitness tracker called Runkeeper for years and decided it was time to analyze my running data to see how I was doing.\n",
    "\n",
    "Since 2012, I've been using the Runkeeper app, and it's great. One key feature: its excellent data export. Anyone who has a smartphone can download the app and analyze their data like we will in this notebook.\n",
    "\n",
    "After logging your run, the first step is to export the data from Runkeeper (which I've done already). Then import the data and start exploring to find potential problems. After that, create data cleaning strategies to fix the issues. Finally, analyze and visualize the clean time-series data.\n",
    "\n",
    "I exported seven years worth of my training data, from 2012 through 2018. The data is a CSV file where each row is a single training activity. Let's load and inspect it.\n",
    "\n",
    "### Part 1.\n",
    "- Import pandas under the alias `pd` and matplotlib.pyplot as `plt`\n",
    "- Use the `read_csv()` function to load the dataset (`cardioActivities.csv`) into a variable called `df_activities`. Parse the dates with the `parse_dates` parameter and set the index to the `Date` column using the `index_col` parameter.\n",
    "- Display 3 random rows from `df_activities` using the `sample()` method.\n",
    "- Print a summary of `df_activities` using the `info()` method."
   ]
  },
  {
   "cell_type": "code",
   "execution_count": 3,
   "metadata": {},
   "outputs": [],
   "source": [
    "# Import packages\n",
    "\n",
    "\n",
    "# Define file containing dataset\n",
    "\n",
    "\n",
    "# Create DataFrame with parse_dates and index_col parameters \n",
    "\n",
    "\n",
    "# First look at exported data: select sample of 3 random rows \n",
    "\n",
    "\n",
    "# Print DataFrame summary\n"
   ]
  },
  {
   "cell_type": "markdown",
   "metadata": {},
   "source": [
    "Lucky for us, the column names Runkeeper provides are informative, and we don't need to rename any columns.\n",
    "\n",
    "But, we do notice missing values using the info() method. What are the reasons for these missing values? It depends. Some heart rate information is missing because I didn't always use a cardio sensor. In the case of the Notes column, it is an optional field that I sometimes left blank. Also, I only used the Route Name column once, and never used the Friend's Tagged column.\n",
    "\n",
    "We'll fill in missing values in the heart rate column to avoid misleading results later, but right now, our first data preprocessing steps will be to:\n",
    "\n",
    "- Remove columns not useful for our analysis.\n",
    "- Replace the \"Other\" activity type to \"Unicycling\" because that was always the \"Other\" activity.\n",
    "- Count missing values.\n",
    "\n",
    "### Part 2.\n",
    "- Delete unnecessary columns from `df_activities` with the `drop()` method, setting the columns parameter to a list called `cols_to_drop`\n",
    "- Calculate the activity type counts using the `value_counts()` method on the `Type` column\n",
    "- Rename the 'Other' values to 'Unicycling' in the `Type` column using `str.replace()`\n",
    "- Count the missing values in each column using `isnull().sum()`"
   ]
  },
  {
   "cell_type": "code",
   "execution_count": null,
   "metadata": {},
   "outputs": [],
   "source": [
    "# Define list of columns to be deleted\n",
    "cols_to_drop = [\"Friend's Tagged\",'Route Name','GPX File','Activity Id','Calories Burned', 'Notes']\n",
    "\n",
    "# Delete unnecessary columns\n",
    "\n",
    "\n",
    "# Count types of training activities\n",
    "\n",
    "\n",
    "# Rename 'Other' type to 'Unicycling'\n",
    "\n",
    "\n",
    "# Count missing values for each column\n"
   ]
  },
  {
   "cell_type": "markdown",
   "metadata": {},
   "source": [
    "As we can see from the last output, there are 214 missing entries for my average heart rate.\n",
    "\n",
    "We can't go back in time to get those data, but we can fill in the missing values with an average value. This process is called mean imputation. When imputing the mean to fill in missing data, we need to consider that the average heart rate varies for different activities (e.g., walking vs. running). We'll filter the DataFrames by activity type (Type) and calculate each activity's mean heart rate, then fill in the missing values with those means.\n",
    "\n",
    "### Part 3.\n",
    "- Calculate the sample mean for `'Average Heart Rate (bpm)'` for the `'Cycling'` activity type. Assign the result to `avg_hr_cycle`. Do the same for the `'Running'` activity type and assign it to `avg_hr_run`\n",
    "- Filter the `df_activities` for the `'Cycling'` activity type. Create a copy of the result using `copy()` and assign the copy to `df_cycle`. Do the same for the `'Running'` and `'Walking'` activity types, calling them `df_run` and `df_walk`\n",
    "- Fill in the missing values for `'Average Heart Rate (bpm)'` in `df_cycle` with `int(avg_hr_cycle)` using the `fillna()` method. Do the same for the `df_run` using `int(avg_hr_run)`. Fill the missing heart rates in `df_walk` with 110. **Note:** Remember to set `inplace=True`!\n",
    "- Count the missing values for all columns in `df_run`"
   ]
  },
  {
   "cell_type": "code",
   "execution_count": null,
   "metadata": {},
   "outputs": [],
   "source": [
    "# Calculate sample means for heart rate for each training activity type \n",
    "\n",
    "\n",
    "\n",
    "# Split whole DataFrame into several, specific for different activities\n",
    "\n",
    "\n",
    "\n",
    "\n",
    "# Filling missing values with counted means  \n",
    "\n",
    "\n",
    "\n",
    "\n",
    "# Count missing values for each column in running data\n"
   ]
  },
  {
   "cell_type": "markdown",
   "metadata": {},
   "source": [
    "Now we can create our first plot! As we found earlier, most of the activities in my data were running (459 of them to be exact). There are only 29, 18, and two instances for cycling, walking, and unicycling, respectively. So for now, let's focus on plotting the different running metrics.\n",
    "\n",
    "An excellent first visualization is a figure with four subplots, one for each running metric (each numerical column). Each subplot will have a different y-axis, which is explained in each legend. The x-axis, Date, is shared among all subplots.\n",
    "\n",
    "### Part 4.\n",
    "- Subset `df_run` for data from `'2013'` through `'2018'`. Take into account that observations in dataset stored in chronological order - most recent records first. Assign the result to `runs_subset_2013_2018`\n",
    "- In the plotting code, enable `subplots` by setting the subplots parameter to `True`. Set `sharex=False`, `figsize=(12,16)`, `linestyle='none'`, `marker='o'`, and `markersize=3`\n",
    "- Show the plot using `plt.show()`"
   ]
  },
  {
   "cell_type": "code",
   "execution_count": null,
   "metadata": {},
   "outputs": [],
   "source": [
    "# Prepare data subsetting period from 2013 till 2018\n",
    "\n",
    "\n",
    "# Create, plot and customize in one step\n",
    "\n",
    "\n",
    "# Show plot\n"
   ]
  },
  {
   "cell_type": "markdown",
   "metadata": {},
   "source": [
    "No doubt, running helps people stay mentally and physically healthy and productive at any age. And it is great fun! When runners talk to each other about their hobby, we not only discuss our results, but we also discuss different training strategies.\n",
    "\n",
    "You'll know you're with a group of runners if you commonly hear questions like:\n",
    "\n",
    "- What is your average distance?\n",
    "- How fast do you run?\n",
    "- Do you measure your heart rate?\n",
    "- How often do you train?\n",
    "\n",
    "Let's find the answers to these questions in my data. If you look back at plots in Part 4, you can see the answer to, Do you measure your heart rate? Before 2015: no. To look at the averages, let's only use the data from 2015 through 2018.\n",
    "\n",
    "In pandas, the `resample()` method is similar to the `groupby()` method - with `resample()` you group by a specific time span. We'll use `resample()` to group the time series data by a sampling period and apply several methods to each sampling period. In our case, we'll resample annually and weekly.\n",
    "\n",
    "### Part 5\n",
    "- Subset `df_run` for data from 2015 through 2018. Assign the result to `runs_subset_2015_2018`\n",
    "- Count the annual averages using `resample()` with `'A'` alias, and the `mean()` method for `runs_subset_2015_2018`\n",
    "- Count the average weekly statistics using `resample()` with `'W'` alias, and the `mean()` method twice\n",
    "- Filter from dataset column `'Distance (km)'` and count the average number of trainings per week using `resample()` with the `count()` and `mean()` methods. Assign the result to `weekly_counts_average`"
   ]
  },
  {
   "cell_type": "code",
   "execution_count": null,
   "metadata": {},
   "outputs": [],
   "source": [
    "# Prepare running data from 2015-2018\n",
    "\n",
    "\n",
    "# Calculate annual statistics\n",
    "\n",
    "\n",
    "\n",
    "# Calculate weekly statistics\n",
    "\n",
    "\n",
    "\n",
    "# Mean weekly counts\n",
    "\n"
   ]
  },
  {
   "cell_type": "markdown",
   "metadata": {},
   "source": [
    "Let's plot the long term averages of my distance run and my heart rate with their raw data to visually compare the averages to each training session. Again, we'll use the data from 2015 through 2018.\n",
    "\n",
    "In this task, we will use matplotlib functionality for plot creation and customization.\n",
    "\n",
    "### Part 6.\n",
    "- Select information for distance and then for heart rate from `runs_subset_2015_2018` and assign to `runs_distance` and `runs_hr`, respectively\n",
    "- Create two subplots with shared x-axis using the `plt.subplots()` method, setting the first positional parameter to 2, `sharex` to `True`, and `figsize` to `(12,8)`. Assign the output to `fig, (ax1, ax2)` variables\n",
    "- Plot distance on the first subplot, setting parameter `ax` to `ax1`. Use the `set` method to change the `ylabel` to `'Distance (km)'` and `title` to `'Historical data with averages'`. Add a horizontal line with `axhline()` for the average value of heart rate counted as `runs_hr.mean()`. Set `color` to `'blue'`, `linewidth` to `1`, and `linestyle` to `'-.'`\n",
    "- On the second subplot (`ax2`), use the `set` method to change the `xlabel` to `'Date'` and `ylabel` to `'Average Heart Rate (bpm)'`. Add a horizontal line with `axhline()` for the average value of heart rate counted as `runs_hr.mean()`. Set `color` to `'blue'`, `linewidth` to `1`, and `linestyle` to `'-.'`"
   ]
  },
  {
   "cell_type": "code",
   "execution_count": null,
   "metadata": {},
   "outputs": [],
   "source": [
    "# Prepare data\n",
    "\n",
    "\n",
    "# Create plot\n",
    "\n",
    "\n",
    "# Plot and customize first subplot\n",
    "\n",
    "\n",
    "# Plot and customize second subplot\n",
    "\n",
    "\n",
    "# Show plot\n"
   ]
  },
  {
   "cell_type": "markdown",
   "metadata": {},
   "source": [
    "To motivate myself to run regularly, I set a target goal of running 1000 km per year. Let's visualize my annual running distance (km) from 2013 through 2018 to see if I reached my goal each year. Only stars in the green region indicate success.\n",
    "\n",
    "### Part 7.\n",
    "- Subset `df_run` for data from 2013 through 2018 and select the `Distance (km)` column. Count annual totals with `resample()` and `sum()`. Assign the result to `df_run_dist_annual`\n",
    "- Create a plot with `plt.figure()`, setting `figsize` to define a plot of size 8.0 inches x 5.0 inches\n",
    "- Plot `df_run_dist_annual` and call the plot `ax`. Inside the call to plot, set `marker='*'`, `markersize=14`, `linewidth=0`, `color='blue'` to create large blue stars for each annual total mileage\n",
    "- Customize the plot with horizontal span from 0 to 800 km with `ax.axhspan()`. Set `color` to `'red'` and `alpha` to `0.2`. Repeat this for the span from 800 to 1000 km and set `color` to `'yellow'` and `alpha` to `0.3`. Repeat this again for the span from 1000 to 1210 and set `color` to `'green'` and `alpha` to `0.4`\n",
    "- Show the plot with `plt.show()`"
   ]
  },
  {
   "cell_type": "code",
   "execution_count": null,
   "metadata": {},
   "outputs": [],
   "source": [
    "# Prepare data\n",
    "\n",
    "\n",
    "# Create plot\n",
    "\n",
    "\n",
    "# Plot and customize\n",
    "\n",
    "\n",
    "# Show plot\n"
   ]
  },
  {
   "cell_type": "markdown",
   "metadata": {},
   "source": [
    "Heart rate is a popular metric used to measure training intensity. Depending on age and fitness level, heart rates are grouped into different zones that people can target depending on training goals. A target heart rate during moderate-intensity activities is about 50-70% of maximum heart rate, while during vigorous physical activity it’s about 70-85% of maximum.\n",
    "\n",
    "We'll create a distribution plot of my heart rate data by training intensity. It will be a visual presentation for the number of activities from predefined training zones.\n",
    "\n",
    "### Part 8.\n",
    "- Subset `df_run` from March 2015 through 2018 then select the `'Average Heart Rate (bpm)'` column. Assign the result to `df_run_hr_all`\n",
    "- Create a plot with `plt.subplots()`, setting `figsize` to `(8,5)`. Assign the result to `fig, ax`\n",
    "- Create customized x-axis ticks with `ax.xaxis.set()` and passing the `hr_zones` to the `ticks` parameter. Use  `ax.set_xticklabels()` and set the parameters `labels` to `zone_names`, `rotation` to `-30`, and `ha` to `'left'`. Use `ax.set()` to set the `title` as `'Distribution of HR'` and the `ylabel` as `'Number of runs'`\n",
    "- Show the plot with `plt.show()`"
   ]
  },
  {
   "cell_type": "code",
   "execution_count": null,
   "metadata": {},
   "outputs": [],
   "source": [
    "# Prepare data\n",
    "hr_zones = [100, 125, 133, 142, 151, 173]\n",
    "zone_names = ['Easy', 'Moderate', 'Hard', 'Very hard', 'Maximal']\n",
    "zone_colors = ['green', 'yellow', 'orange', 'tomato', 'red']\n",
    "\n",
    "\n",
    "# Create plot\n",
    "\n",
    "\n",
    "# Plot and customize\n",
    "n, bins, patches = ax.hist(df_run_hr_all, bins=hr_zones, alpha=0.5)\n",
    "for i in range(0, len(patches)):\n",
    "    patches[i].set_facecolor(zone_colors[i])\n",
    "\n",
    "\n",
    "\n",
    "# Show plot\n"
   ]
  },
  {
   "cell_type": "markdown",
   "metadata": {},
   "source": [
    "With all this data cleaning, analysis, and visualization, let's create detailed summary tables of my training.\n",
    "\n",
    "To do this, we'll create two tables. The first table will be a summary of the distance (km) and climb (m) variables for each training activity. The second table will list the summary statistics for the average speed (km/hr), climb (m), and distance (km) variables for each training activity.\n",
    "\n",
    "### Part 9.\n",
    "- Concatenate the `df_run` DataFrame with `df_walk` and `df_cycle` using `append()`, then `sort` based on the index in descending order. Assign the result to `df_run_walk_cycle`\n",
    "- Group `df_run_walk_cycle` by activity type, then select the columns in `dist_climb_cols`. Sum the result using `sum()`. Assign the result to `df_totals` and print the result.\n",
    "- Use the `stack()` method on `df_summary` to show a compact reshaped form of the full summary report."
   ]
  },
  {
   "cell_type": "code",
   "execution_count": null,
   "metadata": {},
   "outputs": [],
   "source": [
    "dist_climb_cols, speed_col = ['Distance (km)', 'Climb (m)'], ['Average Speed (km/h)']\n",
    "\n",
    "# Concatenate three DataFrames using append\n",
    "\n",
    "\n",
    "# Calculate total distance and climb in each type of activities\n",
    "\n",
    "\n",
    "# Calculating summary statistics for each type of activities \n",
    "\n",
    "\n",
    "# Combine totals with summary\n",
    "for i in dist_climb_cols:\n",
    "    df_summary[i, 'total'] = df_totals[i]\n",
    "\n",
    "# Stack and print summary statistics\n"
   ]
  }
 ],
 "metadata": {
  "kernelspec": {
   "display_name": "Python 3",
   "language": "python",
   "name": "python3"
  },
  "language_info": {
   "codemirror_mode": {
    "name": "ipython",
    "version": 3
   },
   "file_extension": ".py",
   "mimetype": "text/x-python",
   "name": "python",
   "nbconvert_exporter": "python",
   "pygments_lexer": "ipython3",
   "version": "3.8.5"
  }
 },
 "nbformat": 4,
 "nbformat_minor": 4
}
