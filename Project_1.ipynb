{
 "cells": [
  {
   "cell_type": "markdown",
   "metadata": {},
   "source": [
    "# Project 1"
   ]
  },
  {
   "cell_type": "markdown",
   "metadata": {},
   "source": [
    "### Question 1\n",
    "\n",
    "Assign the variable `a` to the number 5 and the variable `b` to the number 2. Raise `a` to the `b` power and print the result."
   ]
  },
  {
   "cell_type": "code",
   "execution_count": 2,
   "metadata": {},
   "outputs": [
    {
     "name": "stdout",
     "output_type": "stream",
     "text": [
      "25\n"
     ]
    }
   ],
   "source": [
    "a = 5\n",
    "b = 2\n",
    "c = a**b\n",
    "print(c)"
   ]
  },
  {
   "cell_type": "markdown",
   "metadata": {},
   "source": [
    "### Question 2\n",
    "\n",
    "Write a function called `power` to raise `a` to the `b` power and test it to verify the same answer as Question 1."
   ]
  },
  {
   "cell_type": "code",
   "execution_count": 5,
   "metadata": {},
   "outputs": [
    {
     "name": "stdout",
     "output_type": "stream",
     "text": [
      "25\n"
     ]
    }
   ],
   "source": [
    "def power(a,b):\n",
    "    c = a**b\n",
    "    return c \n",
    "\n",
    "print(power(5,2))"
   ]
  },
  {
   "cell_type": "markdown",
   "metadata": {},
   "source": [
    "### Question 3\n",
    "\n",
    "Turn the string below into a list and retrieve the 10th element in the list:\n",
    "\n",
    "`'THE QUICK BROWN FOX JUMPS OVER THE LAZY DOG'`"
   ]
  },
  {
   "cell_type": "code",
   "execution_count": 18,
   "metadata": {},
   "outputs": [
    {
     "name": "stdout",
     "output_type": "stream",
     "text": [
      " \n"
     ]
    }
   ],
   "source": [
    "a = 'THE QUICK BROWN FOX JUMPS OVER THE LAZY DOG'\n",
    "list1 = list(a)\n",
    "print(list1[9])"
   ]
  },
  {
   "cell_type": "markdown",
   "metadata": {},
   "source": [
    "### Question 4\n",
    "\n",
    "Our first day of class, February 18, is the 49th day of the year. Divide 49 by 365, multiply the result by 100, and then cast the resulting floating point number as an integer. What percentage of the year have we completed before our class began?"
   ]
  },
  {
   "cell_type": "code",
   "execution_count": 41,
   "metadata": {},
   "outputs": [
    {
     "name": "stdout",
     "output_type": "stream",
     "text": [
      "13%\n"
     ]
    }
   ],
   "source": [
    "a = 49\n",
    "b = (a/365) * 100\n",
    "c = int(b)\n",
    "print(\"{}%\".format(c))"
   ]
  },
  {
   "cell_type": "markdown",
   "metadata": {},
   "source": [
    "### Question 5\n",
    "\n",
    "Write a function called `oddoreven` using an `if`/`else` statement to determine if the number passed in the function is even or odd. Make sure the function prints `'It is even.'` if the number is even and `'It is odd.'` if the number is odd. Test your function with both an odd and an even number to ensure it works. (**Note:** The modulus operator `%` will return the remainder of a division problem; for even numbers, the result is 0.)"
   ]
  },
  {
   "cell_type": "code",
   "execution_count": 30,
   "metadata": {},
   "outputs": [
    {
     "name": "stdout",
     "output_type": "stream",
     "text": [
      "'It is even.'\n"
     ]
    }
   ],
   "source": [
    "def oddoreven(num):\n",
    "    if num % 2 == 0:\n",
    "        print(\"'It is even.'\")\n",
    "    else:\n",
    "        print(\"'it is odd.'\")\n",
    "        \n",
    "oddoreven(2)\n"
   ]
  },
  {
   "cell_type": "markdown",
   "metadata": {},
   "source": [
    "### Question 6\n",
    "\n",
    "Create a tuple with the string `'MSBA605'` and multiply it by 5."
   ]
  },
  {
   "cell_type": "code",
   "execution_count": 42,
   "metadata": {},
   "outputs": [
    {
     "name": "stdout",
     "output_type": "stream",
     "text": [
      "('M', 'S', 'B', 'A', '6', '0', '5', 'M', 'S', 'B', 'A', '6', '0', '5', 'M', 'S', 'B', 'A', '6', '0', '5', 'M', 'S', 'B', 'A', '6', '0', '5', 'M', 'S', 'B', 'A', '6', '0', '5')\n"
     ]
    }
   ],
   "source": [
    "a = 'MSBA605'\n",
    "b = tuple(a)\n",
    "c = b*5 \n",
    "print(c)\n",
    "\n"
   ]
  },
  {
   "cell_type": "markdown",
   "metadata": {},
   "source": [
    "### Question 7\n",
    "\n",
    "Create a list called `pres_list` containing the first five presidents of the United States in chronological order: `'Washington'`, `'Adams'`, `'Jefferson'`, `'Madison'`, `'Monroe'`. Sort the list alphabetically, then pop the third element of the list. (**Note:** Remember that Python's list indexing starts at 0!)"
   ]
  },
  {
   "cell_type": "code",
   "execution_count": 37,
   "metadata": {},
   "outputs": [
    {
     "name": "stdout",
     "output_type": "stream",
     "text": [
      "['Adams', 'Jefferson', 'Monroe', 'Washington']\n"
     ]
    }
   ],
   "source": [
    "pres_list = ['Washington', 'Adams', 'Jefferson', 'Madison', 'Monroe']\n",
    "pres_list.sort()\n",
    "pres_list.pop(2)\n",
    "print(pres_list)\n",
    "\n"
   ]
  },
  {
   "cell_type": "markdown",
   "metadata": {},
   "source": [
    "### Question 8\n",
    "\n",
    "Create a dict called `pres_dict` using the first five presidents' surnames as the `keys` and the first year of their administration: `1789`, `1797`, `1801`, `1809`, and `1817` as the `values`. Print the dict's keys and values to ensure that you created it correctly."
   ]
  },
  {
   "cell_type": "code",
   "execution_count": 2,
   "metadata": {},
   "outputs": [
    {
     "name": "stdout",
     "output_type": "stream",
     "text": [
      "{'Washington': 1789, 'Adams': 1797, 'Jefferson': 1801, 'Madison': 1809, 'Monroe': 1817}\n"
     ]
    }
   ],
   "source": [
    "pres_dict = {'Washington' : 1789, 'Adams' : 1797, 'Jefferson' : 1801, 'Madison' : 1809, 'Monroe' : 1817}\n",
    "print(pres_dict)"
   ]
  },
  {
   "cell_type": "markdown",
   "metadata": {},
   "source": [
    "### Question 9\n",
    "\n",
    "Using the dict created above, use a dict comprehension to capitalize the surnames of the presidents elected in the 1800s. (**Note:** To access the key and value of each line in the dict, use the `items()` method of the dict.)"
   ]
  },
  {
   "cell_type": "code",
   "execution_count": 6,
   "metadata": {},
   "outputs": [
    {
     "name": "stdout",
     "output_type": "stream",
     "text": [
      "{'JEFFERSON': 1801, 'MADISON': 1809, 'MONROE': 1817}\n"
     ]
    },
    {
     "data": {
      "text/plain": [
       "{'JEFFERSON', 'MADISON', 'MONROE'}"
      ]
     },
     "execution_count": 6,
     "metadata": {},
     "output_type": "execute_result"
    }
   ],
   "source": [
    "dict_comp = {key.upper() : value for (key, value) in pres_dict.items() if value >1799 and value <1900}\n",
    "print (dict_comp)\n",
    "\n",
    "{key.upper() for key, value in pres_dict.items() if value > 1800}\n"
   ]
  },
  {
   "cell_type": "markdown",
   "metadata": {},
   "source": [
    "### Question 10\n",
    "\n",
    "Below are two sets, one of all `presidents` of the United States and one of all `veeps` (vice presidents.) Using set logic, find the names of the vice presidents who went on to become presidents."
   ]
  },
  {
   "cell_type": "code",
   "execution_count": 67,
   "metadata": {},
   "outputs": [
    {
     "data": {
      "text/plain": [
       "{'Andrew Johnson',\n",
       " 'Calvin Coolidge',\n",
       " 'Chester A. Arthur',\n",
       " 'George H. W. Bush',\n",
       " 'Gerald Ford',\n",
       " 'Harry S. Truman',\n",
       " 'Joe Biden',\n",
       " 'John Adams',\n",
       " 'John Tyler',\n",
       " 'Lyndon B. Johnson',\n",
       " 'Martin Van Buren',\n",
       " 'Millard Fillmore',\n",
       " 'Richard Nixon',\n",
       " 'Theodore Roosevelt',\n",
       " 'Thomas Jefferson'}"
      ]
     },
     "execution_count": 67,
     "metadata": {},
     "output_type": "execute_result"
    }
   ],
   "source": [
    "presidents = {'George Washington',  'John Adams', 'Thomas Jefferson', 'James Madison', 'James Monroe', 'John Quincy Adams', 'Andrew Jackson', 'Martin Van Buren', 'William Henry Harrison', 'John Tyler', 'James K. Polk', 'Zachary Taylor', 'Millard Fillmore', 'Franklin Pierce', 'James Buchanan', 'Abraham Lincoln', 'Andrew Johnson', 'Ulysses S. Grant', 'Rutherford B. Hayes', 'James A. Garfield', 'Chester A. Arthur', 'Grover Cleveland', 'Benjamin Harrison', 'William McKinley', 'Theodore Roosevelt', 'William Howard Taft', 'Woodrow Wilson', 'Warren G. Harding', 'Calvin Coolidge', 'Herbert Hoover', 'Franklin D. Roosevelt', 'Harry S. Truman', 'Dwight D. Eisenhower', 'John F. Kennedy', 'Lyndon B. Johnson', 'Richard Nixon', 'Gerald Ford', 'Jimmy Carter', 'Ronald Reagan', 'George H. W. Bush', 'Bill Clinton', 'George W. Bush', 'Barack Obama', 'Donald Trump', 'Joe Biden'}\n",
    "veeps = {'John Adams', 'Thomas Jefferson', 'George Clinton', 'Aaron Burr', 'Elbridge Gerry', 'Daniel D. Tompkins', 'John C. Calhoun', 'Martin Van Buren', 'Richard Mentor Johnson', 'John Tyler', 'Vacant throughout presidency', 'George M. Dallas', 'Millard Fillmore', 'William R. King', 'John C. Breckinridge', 'Hannibal Hamlin', 'Andrew Johnson', 'Schuyler Colfax', 'Henry Wilson', 'William A. Wheeler', 'Chester A. Arthur', 'Thomas A. Hendricks', 'Levi P. Morton', 'Adlai Stevenson', 'Theodore Roosevelt', 'Garret Hobart', 'Charles W. Fairbanks', 'James S. Sherman', 'Thomas R. Marshall', 'Calvin Coolidge', 'Charles G. Dawes', 'Charles Curtis', 'John Nance Garner', 'Henry A. Wallace', 'Harry S. Truman', 'Alben W. Barkley', 'Richard Nixon', 'Lyndon B. Johnson', 'Hubert Humphrey', 'Spiro Agnew', 'Gerald Ford', 'Nelson Rockefeller', 'Walter Mondale', 'George H. W. Bush', 'Dan Quayle', 'Al Gore', 'Dick Cheney', 'Joe Biden', 'Mike Pence', 'Kamala Harris'}\n",
    "\n",
    "veeps & presidents \n",
    "\n"
   ]
  },
  {
   "cell_type": "code",
   "execution_count": null,
   "metadata": {},
   "outputs": [],
   "source": []
  }
 ],
 "metadata": {
  "kernelspec": {
   "display_name": "Python 3",
   "language": "python",
   "name": "python3"
  },
  "language_info": {
   "codemirror_mode": {
    "name": "ipython",
    "version": 3
   },
   "file_extension": ".py",
   "mimetype": "text/x-python",
   "name": "python",
   "nbconvert_exporter": "python",
   "pygments_lexer": "ipython3",
   "version": "3.8.5"
  }
 },
 "nbformat": 4,
 "nbformat_minor": 4
}
