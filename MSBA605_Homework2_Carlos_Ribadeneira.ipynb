{
 "cells": [
  {
   "cell_type": "markdown",
   "metadata": {},
   "source": [
    "# Homework Assignment 2"
   ]
  },
  {
   "cell_type": "code",
   "execution_count": 2,
   "metadata": {},
   "outputs": [],
   "source": [
    "import numpy as np\n",
    "import pandas as pd"
   ]
  },
  {
   "cell_type": "markdown",
   "metadata": {},
   "source": [
    "### Question 1\n",
    "\n",
    "Create a 4x3 array of letters from `a` through `l` and call it `array1`. Copy the array and call it `array2`, then reshape `array2` to a 6x2 array. Create another copy of the array, called `array3`, and flatten it into a one-dimensional array. Print all three arrays."
   ]
  },
  {
   "cell_type": "code",
   "execution_count": 11,
   "metadata": {},
   "outputs": [
    {
     "name": "stdout",
     "output_type": "stream",
     "text": [
      "[['a' 'b' 'c']\n",
      " ['d' 'e' 'f']\n",
      " ['g' 'h' 'i']\n",
      " ['j' 'k' 'l']]\n",
      "\n",
      "[['a' 'b']\n",
      " ['c' 'd']\n",
      " ['e' 'f']\n",
      " ['g' 'h']\n",
      " ['i' 'j']\n",
      " ['k' 'l']]\n",
      "\n",
      "['a' 'b' 'c' 'd' 'e' 'f' 'g' 'h' 'i' 'j' 'k' 'l']\n"
     ]
    }
   ],
   "source": [
    "array1 = np.array([['a', 'b', 'c'], ['d', 'e', 'f'], ['g', 'h', 'i'], ['j', 'k', 'l']])\n",
    "array2 = np.copy(array1)\n",
    "array2 = array2.reshape(6,2)\n",
    "array3 = np.copy(array1)\n",
    "array3 = array3.flatten()\n",
    "print(array1)\n",
    "print()\n",
    "print(array2)\n",
    "print()\n",
    "print(array3)\n",
    "\n"
   ]
  },
  {
   "cell_type": "markdown",
   "metadata": {},
   "source": [
    "### Question 2\n",
    "\n",
    "Create a 3x3 array of integers from 1-9. Calculate the array's row means, then broadcast the row means to subtract them from the original array. (**Note:** the row axis in Python is denoted by `0` while the column axis is denoted by `1`.)"
   ]
  },
  {
   "cell_type": "code",
   "execution_count": 10,
   "metadata": {},
   "outputs": [
    {
     "name": "stdout",
     "output_type": "stream",
     "text": [
      "[4. 5. 6.]\n"
     ]
    },
    {
     "data": {
      "text/plain": [
       "array([[-3., -2., -1.],\n",
       "       [-1.,  0.,  1.],\n",
       "       [ 1.,  2.,  3.]])"
      ]
     },
     "execution_count": 10,
     "metadata": {},
     "output_type": "execute_result"
    }
   ],
   "source": [
    "array1 = np.array([[1, 2, 3], [4, 5, 6], [7, 8, 9]])\n",
    "m = array1.mean(0)\n",
    "print(m)\n",
    "array1 - m.reshape((3, 1))"
   ]
  },
  {
   "cell_type": "markdown",
   "metadata": {},
   "source": [
    "### Question 3\n",
    "\n",
    "Using the two arrays provided, first select all rows from `grades` where `students` is either `'Cora'` or `'David'`"
   ]
  },
  {
   "cell_type": "code",
   "execution_count": 7,
   "metadata": {},
   "outputs": [
    {
     "data": {
      "text/plain": [
       "array([[85, 85],\n",
       "       [87, 92]])"
      ]
     },
     "execution_count": 7,
     "metadata": {},
     "output_type": "execute_result"
    }
   ],
   "source": [
    "students = np.array(['Arthur', 'Betty', 'Cora', 'David', 'Ethan'])\n",
    "grades = np.array([[95, 80], [72, 78], [85, 85], [87, 92], [82, 88]])\n",
    "grades[(students == 'Cora') | (students == 'David')]\n",
    "\n"
   ]
  },
  {
   "cell_type": "markdown",
   "metadata": {},
   "source": [
    "### Question 4\n",
    "\n",
    "Use `np.where()` to create a Boolean array that will print `True` when the student's grade is greater than the overall class average (or `mean`) and `False` when it is not."
   ]
  },
  {
   "cell_type": "code",
   "execution_count": 9,
   "metadata": {},
   "outputs": [
    {
     "name": "stdout",
     "output_type": "stream",
     "text": [
      "[['True' 'False']\n",
      " ['False' 'False']\n",
      " ['True' 'True']\n",
      " ['True' 'True']\n",
      " ['False' 'True']]\n"
     ]
    }
   ],
   "source": [
    "m = np.mean(grades)\n",
    "\n",
    "print(np.where(grades > m, 'True', 'False'))\n"
   ]
  },
  {
   "cell_type": "markdown",
   "metadata": {},
   "source": [
    "### Question 5\n",
    "\n",
    "Create a 2x4 array of random numbers called `a` using `np.random.randn()` and a 3x4 array of random numbers called `b`. Multiply matrices `a` and `b` together to find the dot product. What is the `shape` of the resulting array? (**Note:** Remember to transpose the arrays as needed!)"
   ]
  },
  {
   "cell_type": "code",
   "execution_count": 53,
   "metadata": {},
   "outputs": [
    {
     "data": {
      "text/plain": [
       "(2, 3)"
      ]
     },
     "execution_count": 53,
     "metadata": {},
     "output_type": "execute_result"
    }
   ],
   "source": [
    "a = np.random.randn(2, 4)\n",
    "b = np.random.randn(3, 4)\n",
    "c = a.dot(b.T)\n",
    "c.shape\n",
    "\n",
    "\n",
    "\n"
   ]
  },
  {
   "cell_type": "markdown",
   "metadata": {},
   "source": [
    "### Question 6\n",
    "\n",
    "Create a Pandas `Series` using the given list of U.S. presidents as the values and the list of election years as the index. Who was elected president in 1876?"
   ]
  },
  {
   "cell_type": "code",
   "execution_count": 55,
   "metadata": {},
   "outputs": [
    {
     "data": {
      "text/plain": [
       "'Rutherford B. Hayes'"
      ]
     },
     "execution_count": 55,
     "metadata": {},
     "output_type": "execute_result"
    }
   ],
   "source": [
    "year = [1788,1792,1796,1800,1804,1808,1812,1816,1820,1824,1828,1832,1836,1840,1840,1844,1848,1848,1852,1856,1860,1864,1864,1868,1872,1876,1880,1880,1884,1888,1892,1896,1900,1904,1908,1912,1916,1920,1924,1928,1932,1936,1940,1944,1948,1952,1956,1960,1964,1968,1972,1972,1976,1980,1984,1988,1992,1996,2000,2004,2008,2012,2016,2020]\n",
    "name = ['George Washington','George Washington','John Adams','Thomas Jefferson','Thomas Jefferson','James Madison','James Madison','James Monroe','James Monroe','John Quincy Adams','Andrew Jackson','Andrew Jackson','Martin Van Buren','William Henry Harrison','John Tyler','James K. Polk','Zachary Taylor','Millard Fillmore','Franklin Pierce','James Buchanan','Abraham Lincoln','Abraham Lincoln','Andrew Johnson','Ulysses S. Grant','Ulysses S. Grant','Rutherford B. Hayes','James A. Garfield','Chester A. Arthur','Grover Cleveland','Benjamin Harrison','Grover Cleveland','William McKinley','William McKinley','Theodore Roosevelt','William Howard Taft','Woodrow Wilson','Woodrow Wilson','Warren G. Harding','Calvin Coolidge','Herbert Hoover','Franklin D. Roosevelt','Franklin D. Roosevelt','Franklin D. Roosevelt','Franklin D. Roosevelt','Harry S. Truman','Dwight D. Eisenhower','Dwight D. Eisenhower','John F. Kennedy','Lyndon B. Johnson','Richard Nixon','Richard Nixon','Gerald Ford','Jimmy Carter','Ronald Reagan','Ronald Reagan','George H. W. Bush','Bill Clinton','Bill Clinton','George W. Bush','George W. Bush','Barack Obama','Barack Obama','Donald Trump','Joe Biden']\n",
    "\n",
    "s = pd.Series(name, index = year)\n",
    "s[1876]"
   ]
  },
  {
   "cell_type": "markdown",
   "metadata": {},
   "source": [
    "### Question 7\n",
    "\n",
    "Create a Pandas DataFrame called `df` from the three Series below. Use the Series names as the column names. Slice the DataFrame to see what `party` William Howard Taft belonged to and what `year` he was elected."
   ]
  },
  {
   "cell_type": "code",
   "execution_count": 229,
   "metadata": {},
   "outputs": [
    {
     "data": {
      "text/html": [
       "<div>\n",
       "<style scoped>\n",
       "    .dataframe tbody tr th:only-of-type {\n",
       "        vertical-align: middle;\n",
       "    }\n",
       "\n",
       "    .dataframe tbody tr th {\n",
       "        vertical-align: top;\n",
       "    }\n",
       "\n",
       "    .dataframe thead th {\n",
       "        text-align: right;\n",
       "    }\n",
       "</style>\n",
       "<table border=\"1\" class=\"dataframe\">\n",
       "  <thead>\n",
       "    <tr style=\"text-align: right;\">\n",
       "      <th></th>\n",
       "      <th>year</th>\n",
       "      <th>name</th>\n",
       "      <th>party</th>\n",
       "      <th>number</th>\n",
       "    </tr>\n",
       "  </thead>\n",
       "  <tbody>\n",
       "    <tr>\n",
       "      <th>34</th>\n",
       "      <td>1908</td>\n",
       "      <td>William Howard Taft</td>\n",
       "      <td>Republican</td>\n",
       "      <td>27</td>\n",
       "    </tr>\n",
       "  </tbody>\n",
       "</table>\n",
       "</div>"
      ],
      "text/plain": [
       "    year                 name       party  number\n",
       "34  1908  William Howard Taft  Republican      27"
      ]
     },
     "execution_count": 229,
     "metadata": {},
     "output_type": "execute_result"
    }
   ],
   "source": [
    "year = pd.Series([1788,1792,1796,1800,1804,1808,1812,1816,1820,1824,1828,1832,1836,1840,1840,1844,1848,1848,1852,1856,1860,1864,1864,1868,1872,1876,1880,1880,1884,1888,1892,1896,1900,1904,1908,1912,1916,1920,1924,1928,1932,1936,1940,1944,1948,1952,1956,1960,1964,1968,1972,1972,1976,1980,1984,1988,1992,1996,2000,2004,2008,2012,2016,2020])\n",
    "name = pd.Series(['George Washington','George Washington','John Adams','Thomas Jefferson','Thomas Jefferson','James Madison','James Madison','James Monroe','James Monroe','John Quincy Adams','Andrew Jackson','Andrew Jackson','Martin Van Buren','William Henry Harrison','John Tyler','James K. Polk','Zachary Taylor','Millard Fillmore','Franklin Pierce','James Buchanan','Abraham Lincoln','Abraham Lincoln','Andrew Johnson','Ulysses S. Grant','Ulysses S. Grant','Rutherford B. Hayes','James A. Garfield','Chester A. Arthur','Grover Cleveland','Benjamin Harrison','Grover Cleveland','William McKinley','William McKinley','Theodore Roosevelt','William Howard Taft','Woodrow Wilson','Woodrow Wilson','Warren G. Harding','Calvin Coolidge','Herbert Hoover','Franklin D. Roosevelt','Franklin D. Roosevelt','Franklin D. Roosevelt','Franklin D. Roosevelt','Harry S. Truman','Dwight D. Eisenhower','Dwight D. Eisenhower','John F. Kennedy','Lyndon B. Johnson','Richard Nixon','Richard Nixon','Gerald Ford','Jimmy Carter','Ronald Reagan','Ronald Reagan','George H. W. Bush','Bill Clinton','Bill Clinton','George W. Bush','George W. Bush','Barack Obama','Barack Obama','Donald Trump','Joe Biden'])\n",
    "party = pd.Series(['Unaffiliated','Unaffiliated','Federalist','Democratic-Republican','Democratic-Republican','Democratic-Republican','Democratic-Republican','Democratic-Republican','Democratic-Republican','Democratic-Republican','Democratic','Democratic','Democratic','Whig','Whig','Democratic','Whig','Whig','Democratic','Democratic','Republican','National Union','Democratic','Republican','Republican','Republican','Republican','Republican','Democratic','Republican','Democratic','Republican','Republican','Republican','Republican','Democratic','Democratic','Republican','Republican','Republican','Democratic','Democratic','Democratic','Democratic','Democratic','Republican','Republican','Democratic','Democratic','Republican','Republican','Republican','Democratic','Republican','Republican','Republican','Democratic','Democratic','Republican','Republican','Democratic','Democratic','Republican','Democratic'])\n",
    "number = pd.Series([1,1,2,3,3,4,4,5,5,6,7,7,8,9,10,11,12,13,14,15,16,16,17,18,18,19,20,21,22,23,24,25,25,26,27,28,28,29,30,31,32,32,32,32,33,34,34,35,36,37,37,38,39,40,40,41,42,42,43,43,44,44,45,46])\n",
    "\n",
    "df = pd.DataFrame({'year' : year, 'name' : name, 'party': party, 'number': number})\n",
    "df[df['name'] == 'William Howard Taft']"
   ]
  },
  {
   "cell_type": "markdown",
   "metadata": {},
   "source": [
    "### Question 8\n",
    "\n",
    "Using the DataFrame you created in the question before, `set_index` to the `year` column if you have not already done this. Slice the DataFrame using `.loc` to show all those who were president from 1900-1920."
   ]
  },
  {
   "cell_type": "code",
   "execution_count": 190,
   "metadata": {},
   "outputs": [
    {
     "data": {
      "text/html": [
       "<div>\n",
       "<style scoped>\n",
       "    .dataframe tbody tr th:only-of-type {\n",
       "        vertical-align: middle;\n",
       "    }\n",
       "\n",
       "    .dataframe tbody tr th {\n",
       "        vertical-align: top;\n",
       "    }\n",
       "\n",
       "    .dataframe thead th {\n",
       "        text-align: right;\n",
       "    }\n",
       "</style>\n",
       "<table border=\"1\" class=\"dataframe\">\n",
       "  <thead>\n",
       "    <tr style=\"text-align: right;\">\n",
       "      <th></th>\n",
       "      <th>year</th>\n",
       "      <th>name</th>\n",
       "      <th>party</th>\n",
       "      <th>number</th>\n",
       "    </tr>\n",
       "  </thead>\n",
       "  <tbody>\n",
       "    <tr>\n",
       "      <th>1904</th>\n",
       "      <td>1904</td>\n",
       "      <td>Theodore Roosevelt</td>\n",
       "      <td>Republican</td>\n",
       "      <td>26</td>\n",
       "    </tr>\n",
       "    <tr>\n",
       "      <th>1908</th>\n",
       "      <td>1908</td>\n",
       "      <td>William Howard Taft</td>\n",
       "      <td>Republican</td>\n",
       "      <td>27</td>\n",
       "    </tr>\n",
       "    <tr>\n",
       "      <th>1912</th>\n",
       "      <td>1912</td>\n",
       "      <td>Woodrow Wilson</td>\n",
       "      <td>Democratic</td>\n",
       "      <td>28</td>\n",
       "    </tr>\n",
       "    <tr>\n",
       "      <th>1916</th>\n",
       "      <td>1916</td>\n",
       "      <td>Woodrow Wilson</td>\n",
       "      <td>Democratic</td>\n",
       "      <td>28</td>\n",
       "    </tr>\n",
       "    <tr>\n",
       "      <th>1920</th>\n",
       "      <td>1920</td>\n",
       "      <td>Warren G. Harding</td>\n",
       "      <td>Republican</td>\n",
       "      <td>29</td>\n",
       "    </tr>\n",
       "  </tbody>\n",
       "</table>\n",
       "</div>"
      ],
      "text/plain": [
       "      year                 name       party  number\n",
       "1904  1904   Theodore Roosevelt  Republican      26\n",
       "1908  1908  William Howard Taft  Republican      27\n",
       "1912  1912       Woodrow Wilson  Democratic      28\n",
       "1916  1916       Woodrow Wilson  Democratic      28\n",
       "1920  1920    Warren G. Harding  Republican      29"
      ]
     },
     "execution_count": 190,
     "metadata": {},
     "output_type": "execute_result"
    }
   ],
   "source": [
    "df = df.set_index(year)\n",
    "df.loc[(df['year']> 1900) & (df['year'] <= 1920)]\n",
    "\n",
    "\n",
    "        \n",
    "        \n",
    "        \n",
    "        \n",
    "\n",
    "\n",
    "\n"
   ]
  },
  {
   "cell_type": "markdown",
   "metadata": {},
   "source": [
    "### Question 9\n",
    "\n",
    "Filter the DataFrame you created in Question 7 to see how many `'Democratic'` and how many `'Republican'` presidents we have had. Use the `.count()` method to count the number of rows in each category and `print` the name of the party along with the result."
   ]
  },
  {
   "cell_type": "code",
   "execution_count": 230,
   "metadata": {},
   "outputs": [
    {
     "name": "stdout",
     "output_type": "stream",
     "text": [
      "Democratic year      24\n",
      "name      24\n",
      "party     24\n",
      "number    24\n",
      "dtype: int64\n",
      "\n",
      "Republican year      25\n",
      "name      25\n",
      "party     25\n",
      "number    25\n",
      "dtype: int64\n",
      "\n"
     ]
    }
   ],
   "source": [
    "Democratic = df[df['party'] == 'Democratic']\n",
    "print ('Democratic', Democratic.count())\n",
    "print()\n",
    "Republican = df[df['party'] == 'Republican']\n",
    "print ('Republican', Republican.count())\n",
    "print()\n",
    "\n"
   ]
  },
  {
   "cell_type": "markdown",
   "metadata": {},
   "source": [
    "### Question 10\n",
    "\n",
    "`Map` a `lambda` function onto the `'name'` column to capitalize all the president names in the DataFrame you created in Question 7. Remember to apply the `.upper()` method to capitalize the letters."
   ]
  },
  {
   "cell_type": "code",
   "execution_count": 228,
   "metadata": {},
   "outputs": [
    {
     "data": {
      "text/plain": [
       "0     GEORGE WASHINGTON\n",
       "1     GEORGE WASHINGTON\n",
       "2            JOHN ADAMS\n",
       "3      THOMAS JEFFERSON\n",
       "4      THOMAS JEFFERSON\n",
       "            ...        \n",
       "59       GEORGE W. BUSH\n",
       "60         BARACK OBAMA\n",
       "61         BARACK OBAMA\n",
       "62         DONALD TRUMP\n",
       "63            JOE BIDEN\n",
       "Name: name, Length: 64, dtype: object"
      ]
     },
     "execution_count": 228,
     "metadata": {},
     "output_type": "execute_result"
    }
   ],
   "source": [
    "df['name'].map(lambda cap: cap.upper())  "
   ]
  },
  {
   "cell_type": "code",
   "execution_count": null,
   "metadata": {},
   "outputs": [],
   "source": []
  }
 ],
 "metadata": {
  "kernelspec": {
   "display_name": "Python 3",
   "language": "python",
   "name": "python3"
  },
  "language_info": {
   "codemirror_mode": {
    "name": "ipython",
    "version": 3
   },
   "file_extension": ".py",
   "mimetype": "text/x-python",
   "name": "python",
   "nbconvert_exporter": "python",
   "pygments_lexer": "ipython3",
   "version": "3.8.5"
  }
 },
 "nbformat": 4,
 "nbformat_minor": 4
}
